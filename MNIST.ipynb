{
  "nbformat": 4,
  "nbformat_minor": 0,
  "metadata": {
    "colab": {
      "provenance": []
    },
    "kernelspec": {
      "name": "python3",
      "display_name": "Python 3"
    },
    "language_info": {
      "name": "python"
    }
  },
  "cells": [
    {
      "cell_type": "code",
      "source": [
        "import keras\n",
        "from keras.datasets import mnist\n",
        "from keras.models import load_model\n",
        "from keras.models import Sequential\n",
        "from keras.layers import Dense, Dropout, Flatten\n",
        "from keras.layers import Conv2D, MaxPooling2D\n",
        "from keras import backend as K\n",
        "import matplotlib.pyplot as plt"
      ],
      "metadata": {
        "id": "vP-5csv4ZN1L"
      },
      "execution_count": null,
      "outputs": []
    },
    {
      "cell_type": "code",
      "source": [
        "(X_train, y_train), (X_test, y_test) = mnist.load_data()"
      ],
      "metadata": {
        "colab": {
          "base_uri": "https://localhost:8080/"
        },
        "id": "-it0gtPcZQmY",
        "outputId": "6f73aa3c-738e-4082-c9ce-b3a300b20842"
      },
      "execution_count": null,
      "outputs": [
        {
          "output_type": "stream",
          "name": "stdout",
          "text": [
            "Downloading data from https://storage.googleapis.com/tensorflow/tf-keras-datasets/mnist.npz\n",
            "11490434/11490434 [==============================] - 0s 0us/step\n"
          ]
        }
      ]
    },
    {
      "cell_type": "code",
      "source": [
        "plt.figure(figsize = (14,14))\n",
        "x, y = 10, 4\n",
        "for i in range(5):\n",
        "  plt.subplot(x, y, i+1)\n",
        "  plt.imshow(X_train[i])\n",
        "  plt.show()"
      ],
      "metadata": {
        "colab": {
          "base_uri": "https://localhost:8080/",
          "height": 451
        },
        "id": "gWCtM-3HZ0hj",
        "outputId": "a9841e07-c001-48d0-b3a6-dcbedabd1fa7"
      },
      "execution_count": null,
      "outputs": [
        {
          "output_type": "display_data",
          "data": {
            "text/plain": [
              "<Figure size 1400x1400 with 1 Axes>"
            ],
            "image/png": "[encoded data removed]"
          },
          "metadata": {}
        },
        {
          "output_type": "display_data",
          "data": {
            "text/plain": [
              "<Figure size 500x400 with 1 Axes>"
            ],
            "image/png": "[encoded data removed]"
          },
          "metadata": {}
        },
        {
          "output_type": "display_data",
          "data": {
            "text/plain": [
              "<Figure size 500x400 with 1 Axes>"
            ],
            "image/png": "[encoded data removed]"
          },
          "metadata": {}
        },
        {
          "output_type": "display_data",
          "data": {
            "text/plain": [
              "<Figure size 500x400 with 1 Axes>"
            ],
            "image/png": "[encoded data removed]"
          },
          "metadata": {}
        },
        {
          "output_type": "display_data",
          "data": {
            "text/plain": [
              "<Figure size 500x400 with 1 Axes>"
            ],
            "image/png": "[encoded data removed]"
          },
          "metadata": {}
        }
      ]
    },
    {
      "cell_type": "code",
      "source": [
        "BATCH_SIZE = 128\n",
        "NUM_CLASSES = 10\n",
        "EPOCHS = 12\n",
        "\n",
        "img_rows, img_cls = 28, 28\n",
        "\n",
        "\n",
        "if K.image_data_format() == 'channels_first':\n",
        "\n",
        "  X_train = X_train.reshape(X_train.shape[0], 1, img_rows, img_cls, 1)\n",
        "  X_test = X_test.reshape(X_test.shape[0], 1, img_rows, img_cls, 1)\n",
        "  input_shape = (img_rows, img_cls, 1)"
      ],
      "metadata": {
        "id": "mCQ0CmJPaNl6"
      },
      "execution_count": null,
      "outputs": []
    },
    {
      "cell_type": "code",
      "source": [
        "y_train = keras.utils.to_categorical(y_train, NUM_CLASSES)\n",
        "y_test = keras.utils.to_categorical(y_test, NUM_CLASSES)"
      ],
      "metadata": {
        "id": "naIPfKcGbzuO"
      },
      "execution_count": null,
      "outputs": []
    },
    {
      "cell_type": "code",
      "source": [
        "model = Sequential()"
      ],
      "metadata": {
        "id": "OMlHgruOb75Q"
      },
      "execution_count": null,
      "outputs": []
    },
    {
      "cell_type": "code",
      "source": [
        "model.add(Conv2D(32, kernel_size = (3,3),\n",
        "                 activation='relu',\n",
        "                 input_shape = (28, 28, 1)))\n",
        "\n",
        "model.add(Conv2D(64, (3,3),\n",
        "                 activation='relu'))\n",
        "\n",
        "model.add(MaxPooling2D(pool_size = (2,2)))\n",
        "\n",
        "model.add(Dropout(0.25))\n",
        "\n",
        "model.add(Flatten())\n",
        "\n",
        "model.add(Dense(128, activation='relu'))\n",
        "\n",
        "model.add(Dropout(0.50))\n",
        "\n",
        "model.add(Dense(NUM_CLASSES, activation='softmax'))"
      ],
      "metadata": {
        "id": "oYqFe4NWcKf5"
      },
      "execution_count": null,
      "outputs": []
    },
    {
      "cell_type": "code",
      "source": [
        "model.summary()"
      ],
      "metadata": {
        "colab": {
          "base_uri": "https://localhost:8080/"
        },
        "id": "cX65OZw-cLl5",
        "outputId": "15d8c250-71ee-42d1-dce3-9d8e839164d3"
      },
      "execution_count": null,
      "outputs": [
        {
          "output_type": "stream",
          "name": "stdout",
          "text": [
            "Model: \"sequential_2\"\n",
            "_________________________________________________________________\n",
            " Layer (type)                Output Shape              Param #   \n",
            "=================================================================\n",
            " conv2d_5 (Conv2D)           (None, 26, 26, 32)        320       \n",
            "                                                                 \n",
            " conv2d_6 (Conv2D)           (None, 24, 24, 64)        18496     \n",
            "                                                                 \n",
            " max_pooling2d_2 (MaxPoolin  (None, 12, 12, 64)        0         \n",
            " g2D)                                                            \n",
            "                                                                 \n",
            " dropout_4 (Dropout)         (None, 12, 12, 64)        0         \n",
            "                                                                 \n",
            " flatten (Flatten)           (None, 9216)              0         \n",
            "                                                                 \n",
            " dense_4 (Dense)             (None, 128)               1179776   \n",
            "                                                                 \n",
            " dropout_5 (Dropout)         (None, 128)               0         \n",
            "                                                                 \n",
            " dense_5 (Dense)             (None, 10)                1290      \n",
            "                                                                 \n",
            "=================================================================\n",
            "Total params: 1199882 (4.58 MB)\n",
            "Trainable params: 1199882 (4.58 MB)\n",
            "Non-trainable params: 0 (0.00 Byte)\n",
            "_________________________________________________________________\n"
          ]
        }
      ]
    },
    {
      "cell_type": "code",
      "source": [
        "from keras.losses import categorical_crossentropy\n",
        "from keras.optimizers import Adadelta"
      ],
      "metadata": {
        "id": "RS8yzyPrdwde"
      },
      "execution_count": null,
      "outputs": []
    },
    {
      "cell_type": "code",
      "source": [
        "model.compile(loss = categorical_crossentropy,\n",
        "              optimizer = Adadelta(),\n",
        "              metrics = 'accuracy')"
      ],
      "metadata": {
        "id": "P6OIAuxpePbE"
      },
      "execution_count": null,
      "outputs": []
    },
    {
      "cell_type": "code",
      "source": [
        "model.fit(X_train, y_train,\n",
        "          batch_size = BATCH_SIZE,\n",
        "          epochs = EPOCHS,\n",
        "          verbose = 1,\n",
        "          validation_data=(X_test, y_test))"
      ],
      "metadata": {
        "colab": {
          "base_uri": "https://localhost:8080/"
        },
        "id": "PygQUyEBeYsc",
        "outputId": "4b516b8c-f6d4-43ea-eb9a-a3129667c2eb"
      },
      "execution_count": null,
      "outputs": [
        {
          "output_type": "stream",
          "name": "stdout",
          "text": [
            "Epoch 1/12\n",
            "469/469 [==============================] - 146s 309ms/step - loss: 19.9267 - accuracy: 0.1641 - val_loss: 3.2928 - val_accuracy: 0.4697\n",
            "Epoch 2/12\n",
            "469/469 [==============================] - 149s 318ms/step - loss: 8.8758 - accuracy: 0.2781 - val_loss: 1.5676 - val_accuracy: 0.5897\n",
            "Epoch 3/12\n",
            "469/469 [==============================] - 151s 321ms/step - loss: 4.8674 - accuracy: 0.3432 - val_loss: 1.1758 - val_accuracy: 0.6123\n",
            "Epoch 4/12\n",
            "469/469 [==============================] - 147s 313ms/step - loss: 3.1285 - accuracy: 0.3680 - val_loss: 1.2819 - val_accuracy: 0.5879\n",
            "Epoch 5/12\n",
            "469/469 [==============================] - 142s 301ms/step - loss: 2.3877 - accuracy: 0.3745 - val_loss: 1.4110 - val_accuracy: 0.5767\n",
            "Epoch 6/12\n",
            "469/469 [==============================] - 144s 308ms/step - loss: 2.0715 - accuracy: 0.3884 - val_loss: 1.4401 - val_accuracy: 0.5876\n",
            "Epoch 7/12\n",
            "469/469 [==============================] - 145s 309ms/step - loss: 1.9262 - accuracy: 0.4067 - val_loss: 1.4017 - val_accuracy: 0.6106\n",
            "Epoch 8/12\n",
            "469/469 [==============================] - 143s 305ms/step - loss: 1.8146 - accuracy: 0.4310 - val_loss: 1.3320 - val_accuracy: 0.6392\n",
            "Epoch 9/12\n",
            "469/469 [==============================] - 143s 306ms/step - loss: 1.7311 - accuracy: 0.4521 - val_loss: 1.2499 - val_accuracy: 0.6668\n",
            "Epoch 10/12\n",
            "469/469 [==============================] - 148s 315ms/step - loss: 1.6747 - accuracy: 0.4711 - val_loss: 1.1630 - val_accuracy: 0.6944\n",
            "Epoch 11/12\n",
            "469/469 [==============================] - 149s 319ms/step - loss: 1.6126 - accuracy: 0.4896 - val_loss: 1.0830 - val_accuracy: 0.7210\n",
            "Epoch 12/12\n",
            "469/469 [==============================] - 146s 312ms/step - loss: 1.5521 - accuracy: 0.5114 - val_loss: 1.0127 - val_accuracy: 0.7420\n"
          ]
        },
        {
          "output_type": "execute_result",
          "data": {
            "text/plain": [
              "<keras.src.callbacks.History at 0x7f1ce05ac550>"
            ]
          },
          "metadata": {},
          "execution_count": 60
        }
      ]
    },
    {
      "cell_type": "code",
      "source": [
        "model.save('save_models/mnist_model.h5')"
      ],
      "metadata": {
        "id": "1jx4tUD1eqEv",
        "colab": {
          "base_uri": "https://localhost:8080/"
        },
        "outputId": "5d9a226f-c6aa-4279-98ee-b9cf891c1219"
      },
      "execution_count": null,
      "outputs": [
        {
          "output_type": "stream",
          "name": "stderr",
          "text": [
            "/usr/local/lib/python3.10/dist-packages/keras/src/engine/training.py:3103: UserWarning: You are saving your model as an HDF5 file via `model.save()`. This file format is considered legacy. We recommend using instead the native Keras format, e.g. `model.save('my_model.keras')`.\n",
            "  saving_api.save_model(\n"
          ]
        }
      ]
    },
    {
      "cell_type": "code",
      "source": [
        "score = model.evaluate(X_test, y_test, verbose = 0)\n",
        "print('Test Loss:', score[0])\n",
        "print('Test Accuracy:', score[0])"
      ],
      "metadata": {
        "colab": {
          "base_uri": "https://localhost:8080/"
        },
        "id": "lZJ41rIgzvQZ",
        "outputId": "d6c28240-d444-4e68-8db6-e60c30539415"
      },
      "execution_count": null,
      "outputs": [
        {
          "output_type": "stream",
          "name": "stdout",
          "text": [
            "Test Loss: 1.0126521587371826\n",
            "Test Accuracy: 1.0126521587371826\n"
          ]
        }
      ]
    },
    {
      "cell_type": "code",
      "source": [
        "test_image = X_test[32]\n",
        "y_test[32]"
      ],
      "metadata": {
        "colab": {
          "base_uri": "https://localhost:8080/"
        },
        "id": "N0ZaeSMQz6ua",
        "outputId": "bcc88ee1-bd26-48d5-ff7d-0c7bfce16c49"
      },
      "execution_count": null,
      "outputs": [
        {
          "output_type": "execute_result",
          "data": {
            "text/plain": [
              "array([0., 0., 0., 1., 0., 0., 0., 0., 0., 0.], dtype=float32)"
            ]
          },
          "metadata": {},
          "execution_count": 64
        }
      ]
    },
    {
      "cell_type": "code",
      "source": [
        "plt.imshow(test_image.reshape(28, 28))"
      ],
      "metadata": {
        "colab": {
          "base_uri": "https://localhost:8080/",
          "height": 385
        },
        "id": "9m-tdgx30PlE",
        "outputId": "d4832dbc-c7bf-4a22-9777-e00e92b4b3c8"
      },
      "execution_count": null,
      "outputs": [
        {
          "output_type": "execute_result",
          "data": {
            "text/plain": [
              "<matplotlib.image.AxesImage at 0x7f1ce57e60b0>"
            ]
          },
          "metadata": {},
          "execution_count": 65
        },
        {
          "output_type": "display_data",
          "data": {
            "text/plain": [
              "<Figure size 500x400 with 1 Axes>"
            ],
            "image/png": "[encoded data removed]"
          },
          "metadata": {}
        }
      ]
    },
    {
      "cell_type": "code",
      "source": [],
      "metadata": {
        "id": "Yr4dL6Xc67LK"
      },
      "execution_count": null,
      "outputs": []
    }
  ]
}