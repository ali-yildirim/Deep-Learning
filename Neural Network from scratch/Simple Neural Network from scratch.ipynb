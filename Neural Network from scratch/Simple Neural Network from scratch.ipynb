{
 "cells": [
  {
   "cell_type": "markdown",
   "id": "6712bdc3",
   "metadata": {},
   "source": [
    "<h1 style=\"text-align: center;\">A Simple Neural Network for Linear Regression</h1>"
   ]
  },
  {
   "cell_type": "code",
   "execution_count": 7,
   "id": "d904ed4b",
   "metadata": {},
   "outputs": [
    {
     "data": {
      "text/plain": [
       "<matplotlib.collections.PathCollection at 0x216b021ff90>"
      ]
     },
     "execution_count": 7,
     "metadata": {},
     "output_type": "execute_result"
    },
    {
     "data": {
      "image/png": "[encoded data removed]",
      "text/plain": [
       "<Figure size 640x480 with 1 Axes>"
      ]
     },
     "metadata": {},
     "output_type": "display_data"
    }
   ],
   "source": [
    "import numpy as np\n",
    "import pandas as pd\n",
    "import matplotlib.pyplot as plt\n",
    "\n",
    "X = np.array([32.50234527, 53.42680403, 61.53035803, 47.47563963, 59.81320787,\n",
    "           55.14218841, 52.21179669, 39.29956669, 48.10504169, 52.55001444,\n",
    "           45.41973014, 54.35163488, 44.1640495 , 58.16847072, 56.72720806,\n",
    "           48.95588857, 44.68719623, 60.29732685, 45.61864377, 38.81681754]) \n",
    "Y = np.array([31.70700585, 68.77759598, 62.5623823 , 71.54663223, 87.23092513,\n",
    "           78.21151827, 79.64197305, 59.17148932, 75.3312423 , 71.30087989,\n",
    "           55.16567715, 82.47884676, 62.00892325, 75.39287043, 81.43619216,\n",
    "           60.72360244, 82.89250373, 97.37989686, 48.84715332, 56.87721319])\n",
    "\n",
    "x = X / np.average(X)\n",
    "y = Y / np.average(Y)\n",
    "\n",
    "plt.scatter(x, y)"
   ]
  },
  {
   "cell_type": "markdown",
   "id": "89f2c952",
   "metadata": {},
   "source": []
  },
  {
   "cell_type": "code",
   "execution_count": 8,
   "id": "99d5877e",
   "metadata": {},
   "outputs": [],
   "source": [
    "#ReLU\n",
    "def relu(x):\n",
    "    return np.maximum(0, x)\n",
    "\n",
    "# ReLU's derivative\n",
    "def drelu(x):\n",
    "    return np.where(x > 0, 1, 0)"
   ]
  },
  {
   "cell_type": "code",
   "execution_count": 9,
   "id": "18811def",
   "metadata": {},
   "outputs": [],
   "source": [
    "# Gradient Descent \n",
    "\n",
    "def gradient_descent(x, y, iterations = 1000, learning_rate = 0.0001):\n",
    "    \n",
    "    # Initialize weights and biases\n",
    "    w1, w2, w3, w4 = np.random.normal(size=4)\n",
    "    b1, b2, b3 = np.zeros(3)\n",
    "\n",
    "    iterations = iterations\n",
    "    learning_rate = learning_rate\n",
    "    \n",
    "    for i in range(iterations):\n",
    "        \n",
    "        # They are for simplicity, not to be confused by b1, b2 and b3.\n",
    "        a = x * w1 + b1\n",
    "        b = x * w2 + b2\n",
    "        \n",
    "        y_predicted = relu(a) * w3 + relu(b) * w4 + b3\n",
    "        \n",
    "        # Calculating the gradients for the Loss function\n",
    "        \n",
    "        \"\"\"\n",
    "        ∂SSR/∂Predicted = - 2 Σ (y - y_pred)\n",
    "        \n",
    "        ∂SSR/∂w1 = ∂SSR/∂Predicted * ∂Predicted/∂w1 \n",
    "        ...\n",
    "        ...\n",
    "        ...\n",
    "        \n",
    "        ∂SSR/∂b3 = ∂SSR/∂Predicted * ∂Predicted/∂b3  \n",
    "        \n",
    "        \"\"\"\n",
    "        \n",
    "        #  ∂SSR/∂Predicted\n",
    "        dSSR_predicted = -2 *  (y - y_predicted)\n",
    "        \n",
    "        # Partial derivatives of SSR with respect to the weigths\n",
    "        w1_derivative = np.sum(dSSR_predicted * w3 * drelu(a) * x)\n",
    "        w2_derivative = np.sum(dSSR_predicted * w4 * drelu(b) * x)\n",
    "        w3_derivative = np.sum(dSSR_predicted * relu(a))\n",
    "        w4_derivative = np.sum(dSSR_predicted * relu(b)) \n",
    "                \n",
    "        # Partial derivatives of SSR with respect to the biases\n",
    "        b1_derivative = np.sum(dSSR_predicted * w3 * drelu(a))\n",
    "        b2_derivative = np.sum(dSSR_predicted * w4 * drelu(b))\n",
    "        b3_derivative = np.sum(dSSR_predicted)\n",
    "        \n",
    "        # Update the weights and biases\n",
    "        w1 -= (w1_derivative * learning_rate)\n",
    "        w2 -= (w2_derivative * learning_rate)\n",
    "        w3 -= (w3_derivative * learning_rate)\n",
    "        w4 -= (w4_derivative * learning_rate)\n",
    "        b1 -= (b1_derivative * learning_rate)\n",
    "        b2 -= (b2_derivative * learning_rate)\n",
    "        b3 -= (b3_derivative * learning_rate)\n",
    "    \n",
    "    return w1, w2, w3, w4, b1, b2, b3"
   ]
  },
  {
   "cell_type": "code",
   "execution_count": 10,
   "id": "389f37f3",
   "metadata": {},
   "outputs": [
    {
     "data": {
      "text/plain": [
       "(-0.7691928097125851,\n",
       " 0.36251553749053883,\n",
       " 0.13367275745381252,\n",
       " 0.715234704681701,\n",
       " 0.0,\n",
       " 0.30847220726466446,\n",
       " 0.5254639476376294)"
      ]
     },
     "execution_count": 10,
     "metadata": {},
     "output_type": "execute_result"
    }
   ],
   "source": [
    "gradient_descent(x, y)"
   ]
  },
  {
   "cell_type": "code",
   "execution_count": 11,
   "id": "0eb6f131",
   "metadata": {},
   "outputs": [],
   "source": [
    "def neural_network(x, y):\n",
    "    \n",
    "    w1, w2, w3, w4, b1, b2, b3 = gradient_descent(x, y)\n",
    "    \n",
    "    a = x * w1 + b1\n",
    "    b = x * w2 + b2\n",
    "    y_predicted = relu(a) * w3 + relu(b) * w4 + b3\n",
    "    \n",
    "    return y_predicted"
   ]
  },
  {
   "cell_type": "code",
   "execution_count": 12,
   "id": "37623dd2",
   "metadata": {},
   "outputs": [
    {
     "data": {
      "image/png": "[encoded data removed]",
      "text/plain": [
       "<Figure size 640x480 with 1 Axes>"
      ]
     },
     "metadata": {},
     "output_type": "display_data"
    }
   ],
   "source": [
    "plt.scatter(x, y)\n",
    "plt.plot(x, neural_network(x, y), color='salmon')\n",
    "plt.show()"
   ]
  },
  {
   "cell_type": "code",
   "execution_count": null,
   "id": "913057a0",
   "metadata": {},
   "outputs": [],
   "source": []
  }
 ],
 "metadata": {
  "kernelspec": {
   "display_name": "Python 3 (ipykernel)",
   "language": "python",
   "name": "python3"
  },
  "language_info": {
   "codemirror_mode": {
    "name": "ipython",
    "version": 3
   },
   "file_extension": ".py",
   "mimetype": "text/x-python",
   "name": "python",
   "nbconvert_exporter": "python",
   "pygments_lexer": "ipython3",
   "version": "3.11.4"
  }
 },
 "nbformat": 4,
 "nbformat_minor": 5
}
